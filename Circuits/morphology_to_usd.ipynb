{
 "cells": [
  {
   "cell_type": "code",
   "execution_count": 1,
   "metadata": {},
   "outputs": [],
   "source": [
    "# !pip install usd-core"
   ]
  },
  {
   "cell_type": "code",
   "execution_count": 3,
   "metadata": {},
   "outputs": [
    {
     "name": "stdout",
     "output_type": "stream",
     "text": [
      "USD file with neuron LODs created successfully.\n"
     ]
    }
   ],
   "source": [
    "from morphio import Morphology\n",
    "from pxr import Usd, UsdGeom, Gf\n",
    "import numpy as np\n",
    "\n",
    "# Set the path to the neuron morphology file\n",
    "h5_file_path = \"/media/favreau/medias/morphologies/2012.07.23/dend-C030796A-P3_axon-C060110A5_-_Clone_3.h5\"\n",
    "morphology = Morphology(h5_file_path)\n",
    "\n",
    "# Create a USD stage\n",
    "stage = Usd.Stage.CreateNew(\"neuron_with_lods.usda\")\n",
    "\n",
    "# Set up metadata for the stage\n",
    "stage.SetMetadata(\"upAxis\", \"Y\")           # Set Y as the up axis\n",
    "stage.SetMetadata(\"metersPerUnit\", 1.0)     # Set scale to 1 unit = 1 meter\n",
    "\n",
    "# Define the neuron hierarchy with different LODs\n",
    "root = UsdGeom.Xform.Define(stage, '/Neuron')\n",
    "stage.SetDefaultPrim(root.GetPrim())        # Set the defaultPrim to /Neuron\n",
    "\n",
    "root_prim = root.GetPrim()\n",
    "root_prim.SetMetadata('comment', 'This USD file contains a neuron with two levels of detail.')\n",
    "\n",
    "# LOD 0 - Simplified representation as a single sphere positioned at the soma\n",
    "lod0 = UsdGeom.Xform.Define(stage, '/Neuron/LOD0')\n",
    "sphere = UsdGeom.Sphere.Define(stage, '/Neuron/LOD0/NeuronSphere')\n",
    "sphere_radius = morphology.soma.diameters[0] / 2  # Assuming the first diameter represents the soma radius\n",
    "sphere.GetRadiusAttr().Set(sphere_radius)\n",
    "\n",
    "# Set the sphere position to the soma center\n",
    "soma_center = morphology.soma.points[0]  # Assuming the first point is the center of the soma\n",
    "sphere.AddTranslateOp().Set(Gf.Vec3f(float(soma_center[0]), float(soma_center[1]), float(soma_center[2])))\n",
    "\n",
    "# LOD 1 - Full morphology with each section as a different curve and radii-based thickness, including the soma\n",
    "lod1 = UsdGeom.Xform.Define(stage, '/Neuron/LOD1')\n",
    "\n",
    "# Add the soma as a sphere in LOD 1\n",
    "soma_sphere = UsdGeom.Sphere.Define(stage, '/Neuron/LOD1/SomaSphere')\n",
    "soma_sphere.GetRadiusAttr().Set(sphere_radius)\n",
    "soma_sphere.AddTranslateOp().Set(Gf.Vec3f(float(soma_center[0]), float(soma_center[1]), float(soma_center[2])))\n",
    "\n",
    "# Add neuron sections as curves\n",
    "for i, section in enumerate(morphology.root_sections):\n",
    "    # For each section, create a separate curve\n",
    "    curve = UsdGeom.BasisCurves.Define(stage, f'/Neuron/LOD1/NeuronCurve_{i}')\n",
    "    \n",
    "    # Collect all points and their corresponding radii in this section\n",
    "    section_points = [Gf.Vec3f(float(p[0]), float(p[1]), float(p[2])) for p in section.points]\n",
    "    radii = [d / 2 for d in section.diameters]  # Convert diameters to radii by halving\n",
    "    \n",
    "    # Assign points and radii-based thickness\n",
    "    curve.CreatePointsAttr(section_points)\n",
    "    curve.CreateCurveVertexCountsAttr([len(section_points)])  # One curve per section\n",
    "\n",
    "    # Set the basis to 'bezier' for straight line segments between points\n",
    "    curve.CreateBasisAttr().Set(UsdGeom.Tokens.bezier)\n",
    "    \n",
    "    # Set widths for each point, ensuring each width corresponds to a vertex in section_points\n",
    "    curve.CreateWidthsAttr(radii)\n",
    "\n",
    "# Save the USD file\n",
    "stage.GetRootLayer().Save()\n",
    "\n",
    "print(\"USD file with neuron LODs created successfully.\")\n"
   ]
  }
 ],
 "metadata": {
  "kernelspec": {
   "display_name": "env",
   "language": "python",
   "name": "python3"
  },
  "language_info": {
   "codemirror_mode": {
    "name": "ipython",
    "version": 3
   },
   "file_extension": ".py",
   "mimetype": "text/x-python",
   "name": "python",
   "nbconvert_exporter": "python",
   "pygments_lexer": "ipython3",
   "version": "3.10.12"
  }
 },
 "nbformat": 4,
 "nbformat_minor": 2
}
